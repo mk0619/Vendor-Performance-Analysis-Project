{
 "cells": [
  {
   "cell_type": "code",
   "execution_count": 33,
   "id": "ede5974e",
   "metadata": {},
   "outputs": [],
   "source": [
    "import pandas as pd\n",
    "import os\n",
    "from sqlalchemy import create_engine\n",
    "import logging\n",
    "import time\n",
    "\n",
    "logging.basicConfig(\n",
    "    filename='logs/ingestion_db.log',\n",
    "    level=logging.DEBUG,\n",
    "    format='%(asctime)s - %(levelname)s - %(message)s',\n",
    "    filemode=\"a\"\n",
    "    )\n",
    "engine = create_engine('sqlite:///inventory.db')\n",
    "def ingest_db(df, table_name, engine):\n",
    "    # this function will ingest the dataframe into db\n",
    "    df.to_sql(table_name, con=engine, if_exists='replace', index=False)\n",
    "    \n",
    "def load_raw_data():\n",
    "    # this function will load csvs as dataframes and ingest them into db\n",
    "    start_time = time.time()\n",
    "    for file in os.listdir('.'):\n",
    "        if '.csv' in file:\n",
    "            df = pd.read_csv('./'+file)\n",
    "            logging.info(f'Ingesting {file} in db')\n",
    "            chunksize = 100000   # 100k rows at a time\n",
    "            for chunk in pd.read_csv(file, chunksize=chunksize):\n",
    "                ingest_db(chunk, file[:-4], engine)\n",
    "\n",
    "    end_time = time.time()\n",
    "    logging.info('Ingestion completed')\n",
    "    logging.info(f'Total time taken: {(end_time - start_time)/60} minutes')\n",
    "    \n",
    "if __name__ == '__main__':\n",
    "    load_raw_data()    "
   ]
  },
  {
   "cell_type": "code",
   "execution_count": null,
   "id": "6f5e8ba8",
   "metadata": {},
   "outputs": [],
   "source": []
  }
 ],
 "metadata": {
  "kernelspec": {
   "display_name": "Python 3",
   "language": "python",
   "name": "python3"
  },
  "language_info": {
   "codemirror_mode": {
    "name": "ipython",
    "version": 3
   },
   "file_extension": ".py",
   "mimetype": "text/x-python",
   "name": "python",
   "nbconvert_exporter": "python",
   "pygments_lexer": "ipython3",
   "version": "3.12.4"
  }
 },
 "nbformat": 4,
 "nbformat_minor": 5
}
